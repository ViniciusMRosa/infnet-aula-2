{
 "cells": [
  {
   "cell_type": "markdown",
   "metadata": {},
   "source": [
    "# 1. Os 100 melhores filmes de todos os tempos\n",
    "\n",
    "O IMDB mantém uma listagem dos 100 melhores filmes de todos tempos. Os filmes dessa lista são ranqueados de acordo com o seu sucesso (prêmios e nomeações), popularidade e sua grandiozidade do ponto de vista de direção e roteiro.\n",
    "\n",
    "## 1.1 A base de dados\n",
    "\n",
    "O arquivo [*top_100_greatest_movies.csv*](data/top_100_greatest_movies.csv) é uma planilha com duas colunas com o titúlo do filme e a sinopse do filme, nessa ordem.\n",
    "\n",
    "## 1.2 O nosso objetivo\n",
    "\n",
    "Agrupar os filmes de acordo com a semelhança entre suas sinopses."
   ]
  },
  {
   "cell_type": "markdown",
   "metadata": {},
   "source": [
    "# 2. Leitura e tratamento dos dados\n",
    "\n",
    "As sinopses são textos em inglês de tamanho variável. Para extrair conhecimento dessa base de dados de forma automátizada temos que converter esse texto para um formato mais puro. Para tanto, o texto passará pelo seguinte processo de:\n",
    " - Remoção de stop words;\n",
    " - Stematização;\n",
    " - Remoção daquilo que não é palavra.\n",
    " \n",
    "## 2.1 Leitura do Arquivo"
   ]
  },
  {
   "cell_type": "code",
   "execution_count": 1,
   "metadata": {
    "collapsed": false
   },
   "outputs": [
    {
     "name": "stdout",
     "output_type": "stream",
     "text": [
      "(100, 2)\n"
     ]
    },
    {
     "data": {
      "text/html": [
       "<div>\n",
       "<table border=\"1\" class=\"dataframe\">\n",
       "  <thead>\n",
       "    <tr style=\"text-align: right;\">\n",
       "      <th></th>\n",
       "      <th>0</th>\n",
       "      <th>1</th>\n",
       "    </tr>\n",
       "  </thead>\n",
       "  <tbody>\n",
       "    <tr>\n",
       "      <th>0</th>\n",
       "      <td>The Godfather</td>\n",
       "      <td>In late summer 1945, guests are gathered for t...</td>\n",
       "    </tr>\n",
       "    <tr>\n",
       "      <th>1</th>\n",
       "      <td>The Shawshank Redemption</td>\n",
       "      <td>In 1947, Andy Dufresne (Tim Robbins), a banker...</td>\n",
       "    </tr>\n",
       "    <tr>\n",
       "      <th>2</th>\n",
       "      <td>Schindler's List</td>\n",
       "      <td>The relocation of Polish Jews from surrounding...</td>\n",
       "    </tr>\n",
       "    <tr>\n",
       "      <th>3</th>\n",
       "      <td>Raging Bull</td>\n",
       "      <td>The film opens in 1964, where an older and fat...</td>\n",
       "    </tr>\n",
       "    <tr>\n",
       "      <th>4</th>\n",
       "      <td>Casablanca</td>\n",
       "      <td>In the early years of World War II, December 1...</td>\n",
       "    </tr>\n",
       "  </tbody>\n",
       "</table>\n",
       "</div>"
      ],
      "text/plain": [
       "                          0                                                  1\n",
       "0             The Godfather  In late summer 1945, guests are gathered for t...\n",
       "1  The Shawshank Redemption  In 1947, Andy Dufresne (Tim Robbins), a banker...\n",
       "2          Schindler's List  The relocation of Polish Jews from surrounding...\n",
       "3               Raging Bull  The film opens in 1964, where an older and fat...\n",
       "4                Casablanca  In the early years of World War II, December 1..."
      ]
     },
     "execution_count": 1,
     "metadata": {},
     "output_type": "execute_result"
    }
   ],
   "source": [
    "import pandas as pd\n",
    "\n",
    "# Leitura do csv\n",
    "csv_data = pd.read_csv(\n",
    "    \"data/top_100_greatest_movies.csv\",  # nome do arquivo\n",
    "    header=None,  # informa que nao ha cabecalho no csv\n",
    "    delimiter='\\t'  # o delimitador de colunas\n",
    ")\n",
    "\n",
    "# Copiando os dados do csv\n",
    "data = csv_data.values.copy()\n",
    "\n",
    "# Fomato da base\n",
    "print data.shape\n",
    "\n",
    "# Exibindo as primeiras 5 linhas\n",
    "csv_data[:5]"
   ]
  },
  {
   "cell_type": "markdown",
   "metadata": {},
   "source": [
    "### Separando titúlos de sinopses"
   ]
  },
  {
   "cell_type": "code",
   "execution_count": 2,
   "metadata": {
    "collapsed": false
   },
   "outputs": [
    {
     "name": "stdout",
     "output_type": "stream",
     "text": [
      "The Sound of Music\n"
     ]
    }
   ],
   "source": [
    "# Coletando apenas os titulos\n",
    "titles = data[:, 0]\n",
    "print titles[17]"
   ]
  },
  {
   "cell_type": "code",
   "execution_count": 3,
   "metadata": {
    "collapsed": false
   },
   "outputs": [
    {
     "name": "stdout",
     "output_type": "stream",
     "text": [
      "The widowed, retired Austrian naval officer, Captain Von Trapp (Christopher Plummer) has made his Austrian home one of overly restrictive and harshly enforced discipline, one that, most unintentionally, causes his seven children to be underfed when it comes to joy and love. Being a nun living in a convent is similarly restrictive and unfulfilling for Maria (Julie Andrews), who breaks rules to try to change it. The reverend mother (Peggy Wood) decides that Maria, who is not cutting it as a nun, should leave and take on a job as governess at the nearby Von Trapp household in Salzburg.Through music and various outings, Maria gives the children a taste of a more fulfilling, joyous, life than they have ever known, and they come to love her very dearly. The Captain grows closer to his children, too, coming to understand the value and beauty of the freedoms that Maria has given them. Ironically, the freedom of all Austrians to live their lives to the fullest is in danger, for it is 1938, and Germany is marching into Austria. The Captain is a patriot, passionate about the fulfilling life that Austria has always offered its citizens.In his personal life, the Captain is having a romance with a wealthy, cultivated, and lovely Baroness (Eleanor Parker), but he is becoming more and more captivated by Maria, and is falling in love with her, and she, too, feels growing affection for him. She is a nun, however, and unschooled in dealing with the situaiton. Frightened by the developments, Maria runs back to the convent, where the reverend mother convinces her that she must face, rather than run from, the situation, causing Maria to return to the Captain's home. It seems, though, that she is too late, learning that the Captain and the Baroness have become engaged.The Captain, who had surely concluded that he could never have Maria for a wife, confides to the Baroness that he loves Maria, but the Baroness admits she had sensed it long ago, and the engagement is called off. The Captain and Maria marry, but an ugly situation befronts them upon return from their honeymoon -- the Captain has been summoned, in a telegram, by the Third Reich to serve in its navy.Due to the Captain 's unwillingness to serve the Third Reich, the Captain and Maria resolve to leave Austria, and, after escaping the pursuit of some Nazi officers, they set out, with the children, for the mountains of Switzerland on foot.\n"
     ]
    }
   ],
   "source": [
    "# Coeltando apenas as sinopses\n",
    "synopses = data[:, 1]\n",
    "print synopses[17]"
   ]
  },
  {
   "cell_type": "markdown",
   "metadata": {},
   "source": [
    "### 2.1 Remoção de stop words\n",
    "\n",
    "As stop words são palavras comuns no vocabulário que não agregam muita informação, como artigos e conjunções. Para a remoção será utilizado o módulo stopwords do nltk.corpus.\n",
    "\n",
    "**OBSERVAÇÃO**: Se for a primeira execução do nltk descomente e excute a célula abaixo e faça o dowload do conjunto de stop words."
   ]
  },
  {
   "cell_type": "code",
   "execution_count": 4,
   "metadata": {
    "collapsed": false
   },
   "outputs": [
    {
     "name": "stdout",
     "output_type": "stream",
     "text": [
      "showing info https://raw.githubusercontent.com/nltk/nltk_data/gh-pages/index.xml\n"
     ]
    },
    {
     "data": {
      "text/plain": [
       "True"
      ]
     },
     "execution_count": 4,
     "metadata": {},
     "output_type": "execute_result"
    }
   ],
   "source": [
    "import nltk\n",
    "\n",
    "# nltk.download()"
   ]
  },
  {
   "cell_type": "markdown",
   "metadata": {},
   "source": [
    "#### Stopwords do Inglês:"
   ]
  },
  {
   "cell_type": "code",
   "execution_count": 5,
   "metadata": {
    "collapsed": false
   },
   "outputs": [
    {
     "name": "stdout",
     "output_type": "stream",
     "text": [
      "[u'i', u'me', u'my', u'myself', u'we', u'our', u'ours', u'ourselves', u'you', u'your']\n"
     ]
    }
   ],
   "source": [
    "stopwords = nltk.corpus.stopwords.words('english')\n",
    "print stopwords[:10]"
   ]
  },
  {
   "cell_type": "markdown",
   "metadata": {},
   "source": [
    "#### Stopwords do Português:"
   ]
  },
  {
   "cell_type": "code",
   "execution_count": 6,
   "metadata": {
    "collapsed": false
   },
   "outputs": [
    {
     "name": "stdout",
     "output_type": "stream",
     "text": [
      "[u'de', u'a', u'o', u'que', u'e', u'do', u'da', u'em', u'um', u'para']\n"
     ]
    }
   ],
   "source": [
    "stopwords_pt = nltk.corpus.stopwords.words('portuguese')\n",
    "print stopwords_pt[:10]"
   ]
  },
  {
   "cell_type": "markdown",
   "metadata": {},
   "source": [
    "### 2.2 Stemização\n",
    "\n",
    "Em morfologia linguística e recuperação de informação a stemização (do inglês, stemming) é o processo de reduzir palavras flexionadas (ou às vezes derivadas) ao seu tronco (stem), base ou raiz, geralmente uma forma da palavra escrita.\n",
    "\n",
    "Para stemização será utilizado a classe SnowballStemmer também do nltk"
   ]
  },
  {
   "cell_type": "code",
   "execution_count": 19,
   "metadata": {
    "collapsed": false
   },
   "outputs": [
    {
     "data": {
      "text/plain": [
       "u'sing'"
      ]
     },
     "execution_count": 19,
     "metadata": {},
     "output_type": "execute_result"
    }
   ],
   "source": [
    "from nltk.stem.snowball import SnowballStemmer\n",
    "\n",
    "stemmer = SnowballStemmer(\"english\")  # tbm poderia ser 'portuguese'\n",
    "stemmer.stem(\"Singing\")"
   ]
  },
  {
   "cell_type": "markdown",
   "metadata": {},
   "source": [
    "## 2.3 Lematização"
   ]
  },
  {
   "cell_type": "code",
   "execution_count": 8,
   "metadata": {
    "collapsed": false
   },
   "outputs": [
    {
     "data": {
      "text/plain": [
       "u'car'"
      ]
     },
     "execution_count": 8,
     "metadata": {},
     "output_type": "execute_result"
    }
   ],
   "source": [
    "from nltk.stem.wordnet import WordNetLemmatizer\n",
    "lmtzr = WordNetLemmatizer()\n",
    "lmtzr.lemmatize('cars')"
   ]
  },
  {
   "cell_type": "markdown",
   "metadata": {},
   "source": [
    "## 2.4 Uma função para tratar o texto\n",
    "\n",
    "A partir de agora cada palavra cadeia de símbolos presentes no texto serão tratados como tokens. Essa função coleta as palavras válidas e as reduzem para seu formato bruto (stemização)."
   ]
  },
  {
   "cell_type": "code",
   "execution_count": 9,
   "metadata": {
    "collapsed": false
   },
   "outputs": [],
   "source": [
    "import re\n",
    "\n",
    "def tokenize_and_stem(text):\n",
    "    # Converte todos os elementos do texto em tokens.\n",
    "    tokens = [word for sent in nltk.sent_tokenize(text) for word in nltk.word_tokenize(sent)]\n",
    "    filtered_tokens = []\n",
    "    # filtra tokens que não contem letras.\n",
    "    for token in tokens:\n",
    "        if re.search('[a-zA-Z]', token):\n",
    "            filtered_tokens.append(token)\n",
    "    # converte tokens para seu formato bruto.\n",
    "    stems = [stemmer.stem(t) for t in filtered_tokens]\n",
    "    return stems"
   ]
  },
  {
   "cell_type": "markdown",
   "metadata": {},
   "source": [
    "Testando a função"
   ]
  },
  {
   "cell_type": "code",
   "execution_count": 10,
   "metadata": {
    "collapsed": false
   },
   "outputs": [
    {
     "data": {
      "text/plain": [
       "[u'the', u'good', u'muffin', u'cost', 'in', u'new', u'york']"
      ]
     },
     "execution_count": 10,
     "metadata": {},
     "output_type": "execute_result"
    }
   ],
   "source": [
    "tokenize_and_stem('The Good muffins cost $3.88\\nin New York.')"
   ]
  },
  {
   "cell_type": "markdown",
   "metadata": {},
   "source": [
    "# 3. Construção da matriz Tf-idf\n",
    "\n",
    "O valor tf–idf (abreviação do inglês term frequency–inverse document frequency, que significa frequência do termo–inverso da frequência nos documentos), é uma medida estatística que tem o intuito de indicar a importância de uma palavra de um documento em relação a uma coleção de documentos ou em um corpus linguístico.\n",
    "\n",
    "O valor td–idf de uma palavra aumenta proporcionalmente à medida que aumenta o número de ocorrências dela em um documento, no entanto, esse valor é equilibrado pela frequência da palavra no corpus. Isso auxilia a distinguir o fato da ocorrência de algumas palavras serem geralmente mais comuns que outras.\n",
    "\n",
    "Para a construção da matriz será utilizada classe TfidfVectorizer\n",
    "\n",
    "Que recebe como parâmetro:\n",
    " - stop_words: lista de stopwords;\n",
    " - tokenizer: função que converte o texto em tokens;\n",
    " - max_df: a máxima frequência que um termo tem que ter em todos os documentos para ser considerada válido e ser representado na matriz. Exemplo: se um termo aparece em mais de 80% (max_df=0.8) dos documentos, então ele é muito comum, trás pouco conhecimento e pode ser descartado;\n",
    " - min_df: ao contrário do max_df, define uma frequência mínima."
   ]
  },
  {
   "cell_type": "code",
   "execution_count": 11,
   "metadata": {
    "collapsed": false
   },
   "outputs": [
    {
     "name": "stdout",
     "output_type": "stream",
     "text": [
      "CPU times: user 9.97 s, sys: 319 ms, total: 10.3 s\n",
      "Wall time: 10.2 s\n"
     ]
    },
    {
     "data": {
      "text/plain": [
       "(100, 427)"
      ]
     },
     "execution_count": 11,
     "metadata": {},
     "output_type": "execute_result"
    }
   ],
   "source": [
    "from sklearn.feature_extraction.text import TfidfVectorizer\n",
    "\n",
    "# criando o gerador da matriz:\n",
    "tfidf_vectorizer = TfidfVectorizer(max_df=0.8, max_features=200000,\n",
    "                                   min_df=0.2, stop_words=stopwords,\n",
    "                                   use_idf=True, tokenizer=tokenize_and_stem,\n",
    "                                   ngram_range=(1,3))\n",
    "\n",
    "# aplicando:\n",
    "%time tfidf_matrix = tfidf_vectorizer.fit_transform(synopses) #fit the vectorizer to synopses\n",
    "\n",
    "# imprimindo o formato:\n",
    "tfidf_matrix.shape"
   ]
  },
  {
   "cell_type": "code",
   "execution_count": 12,
   "metadata": {
    "collapsed": false
   },
   "outputs": [
    {
     "name": "stdout",
     "output_type": "stream",
     "text": [
      "[u\"'d\", u'abl', u'accept', u'accompani', u'across', u'act', u'action', u'admit', u'afterward', u'agre']\n"
     ]
    }
   ],
   "source": [
    "# Listando os termos\n",
    "terms = tfidf_vectorizer.get_feature_names()\n",
    "print terms[:10]"
   ]
  },
  {
   "cell_type": "markdown",
   "metadata": {},
   "source": [
    "# 4. Agrupando com o K-means\n",
    "\n",
    "De posse da matriz tf-idf podemos executar o algoritmo do K-Means. O K-Means começa analizando com um número pré definido de clusters. Cada observação é atribuida a um cluster e para minimizar the \n",
    "Each observation is assigned to a cluster (cluster assignment) so as to minimize the within cluster sum of squares. Next, the mean of the clustered observations is calculated and used as the new cluster centroid. Then, observations are reassigned to clusters and centroids recalculated in an iterative process until the algorithm reaches convergence."
   ]
  },
  {
   "cell_type": "code",
   "execution_count": 13,
   "metadata": {
    "collapsed": false
   },
   "outputs": [
    {
     "name": "stdout",
     "output_type": "stream",
     "text": [
      "CPU times: user 183 ms, sys: 7.45 ms, total: 191 ms\n",
      "Wall time: 194 ms\n"
     ]
    }
   ],
   "source": [
    "from sklearn.cluster import KMeans\n",
    "\n",
    "num_clusters = 5\n",
    "\n",
    "km = KMeans(n_clusters=num_clusters)\n",
    "\n",
    "%time km.fit(tfidf_matrix)\n",
    "\n",
    "clusters = km.labels_.tolist()"
   ]
  },
  {
   "cell_type": "code",
   "execution_count": 14,
   "metadata": {
    "collapsed": true
   },
   "outputs": [],
   "source": [
    "from sklearn.externals import joblib\n",
    "\n",
    "# salva o modelo em um arquivo\n",
    "joblib.dump(km,  'doc_cluster.pkl')\n",
    "\n",
    "km = joblib.load('doc_cluster.pkl')\n",
    "clusters = km.labels_.tolist()"
   ]
  },
  {
   "cell_type": "markdown",
   "metadata": {},
   "source": [
    "#### Organizando a o resultado para melhor entendimento"
   ]
  },
  {
   "cell_type": "code",
   "execution_count": 15,
   "metadata": {
    "collapsed": false
   },
   "outputs": [
    {
     "data": {
      "text/html": [
       "<div>\n",
       "<table border=\"1\" class=\"dataframe\">\n",
       "  <thead>\n",
       "    <tr style=\"text-align: right;\">\n",
       "      <th></th>\n",
       "      <th>cluster</th>\n",
       "      <th>rank</th>\n",
       "      <th>synopsis</th>\n",
       "      <th>title</th>\n",
       "    </tr>\n",
       "  </thead>\n",
       "  <tbody>\n",
       "    <tr>\n",
       "      <th>2</th>\n",
       "      <td>2</td>\n",
       "      <td>1</td>\n",
       "      <td>In late summer 1945, guests are gathered for t...</td>\n",
       "      <td>The Godfather</td>\n",
       "    </tr>\n",
       "    <tr>\n",
       "      <th>3</th>\n",
       "      <td>3</td>\n",
       "      <td>2</td>\n",
       "      <td>In 1947, Andy Dufresne (Tim Robbins), a banker...</td>\n",
       "      <td>The Shawshank Redemption</td>\n",
       "    </tr>\n",
       "    <tr>\n",
       "      <th>3</th>\n",
       "      <td>3</td>\n",
       "      <td>3</td>\n",
       "      <td>The relocation of Polish Jews from surrounding...</td>\n",
       "      <td>Schindler's List</td>\n",
       "    </tr>\n",
       "    <tr>\n",
       "      <th>0</th>\n",
       "      <td>0</td>\n",
       "      <td>4</td>\n",
       "      <td>The film opens in 1964, where an older and fat...</td>\n",
       "      <td>Raging Bull</td>\n",
       "    </tr>\n",
       "    <tr>\n",
       "      <th>3</th>\n",
       "      <td>3</td>\n",
       "      <td>5</td>\n",
       "      <td>In the early years of World War II, December 1...</td>\n",
       "      <td>Casablanca</td>\n",
       "    </tr>\n",
       "    <tr>\n",
       "      <th>3</th>\n",
       "      <td>3</td>\n",
       "      <td>6</td>\n",
       "      <td>In 1963 Oregon, Randle Patrick McMurphy (Nicho...</td>\n",
       "      <td>One Flew Over the Cuckoo's Nest</td>\n",
       "    </tr>\n",
       "    <tr>\n",
       "      <th>3</th>\n",
       "      <td>3</td>\n",
       "      <td>7</td>\n",
       "      <td>The film opens in Tara, a cotton plantation ow...</td>\n",
       "      <td>Gone with the Wind</td>\n",
       "    </tr>\n",
       "    <tr>\n",
       "      <th>4</th>\n",
       "      <td>4</td>\n",
       "      <td>8</td>\n",
       "      <td>It's 1941, and newspaper tycoon Charles Foster...</td>\n",
       "      <td>Citizen Kane</td>\n",
       "    </tr>\n",
       "    <tr>\n",
       "      <th>1</th>\n",
       "      <td>1</td>\n",
       "      <td>9</td>\n",
       "      <td>Dorothy Gale (Judy Garland) is an orphaned tee...</td>\n",
       "      <td>The Wizard of Oz</td>\n",
       "    </tr>\n",
       "    <tr>\n",
       "      <th>4</th>\n",
       "      <td>4</td>\n",
       "      <td>10</td>\n",
       "      <td>In 1996, treasure hunter Brock Lovett and his ...</td>\n",
       "      <td>Titanic</td>\n",
       "    </tr>\n",
       "    <tr>\n",
       "      <th>3</th>\n",
       "      <td>3</td>\n",
       "      <td>11</td>\n",
       "      <td>In 1935, T. E. Lawrence (Peter O'Toole) is kil...</td>\n",
       "      <td>Lawrence of Arabia</td>\n",
       "    </tr>\n",
       "    <tr>\n",
       "      <th>0</th>\n",
       "      <td>0</td>\n",
       "      <td>12</td>\n",
       "      <td>The Godfather Part II presents two parallel st...</td>\n",
       "      <td>The Godfather: Part II</td>\n",
       "    </tr>\n",
       "    <tr>\n",
       "      <th>1</th>\n",
       "      <td>1</td>\n",
       "      <td>13</td>\n",
       "      <td>In a Phoenix hotel room on a Friday afternoon,...</td>\n",
       "      <td>Psycho</td>\n",
       "    </tr>\n",
       "    <tr>\n",
       "      <th>1</th>\n",
       "      <td>1</td>\n",
       "      <td>14</td>\n",
       "      <td>The film opens with the camera tracking down S...</td>\n",
       "      <td>Sunset Blvd.</td>\n",
       "    </tr>\n",
       "    <tr>\n",
       "      <th>1</th>\n",
       "      <td>1</td>\n",
       "      <td>15</td>\n",
       "      <td>A woman's face gives way to a kaleidoscope of ...</td>\n",
       "      <td>Vertigo</td>\n",
       "    </tr>\n",
       "    <tr>\n",
       "      <th>1</th>\n",
       "      <td>1</td>\n",
       "      <td>16</td>\n",
       "      <td>Terry Malloy (Marlon Brando) once dreamt of be...</td>\n",
       "      <td>On the Waterfront</td>\n",
       "    </tr>\n",
       "    <tr>\n",
       "      <th>3</th>\n",
       "      <td>3</td>\n",
       "      <td>17</td>\n",
       "      <td>The film begins with a feather falling to the ...</td>\n",
       "      <td>Forrest Gump</td>\n",
       "    </tr>\n",
       "    <tr>\n",
       "      <th>4</th>\n",
       "      <td>4</td>\n",
       "      <td>18</td>\n",
       "      <td>The widowed, retired Austrian naval officer, C...</td>\n",
       "      <td>The Sound of Music</td>\n",
       "    </tr>\n",
       "    <tr>\n",
       "      <th>1</th>\n",
       "      <td>1</td>\n",
       "      <td>19</td>\n",
       "      <td>A fight set to music between an American gang,...</td>\n",
       "      <td>West Side Story</td>\n",
       "    </tr>\n",
       "    <tr>\n",
       "      <th>3</th>\n",
       "      <td>3</td>\n",
       "      <td>20</td>\n",
       "      <td>Note: Italicized paragraphs denote scenes adde...</td>\n",
       "      <td>Star Wars</td>\n",
       "    </tr>\n",
       "  </tbody>\n",
       "</table>\n",
       "</div>"
      ],
      "text/plain": [
       "   cluster  rank                                           synopsis  \\\n",
       "2        2     1  In late summer 1945, guests are gathered for t...   \n",
       "3        3     2  In 1947, Andy Dufresne (Tim Robbins), a banker...   \n",
       "3        3     3  The relocation of Polish Jews from surrounding...   \n",
       "0        0     4  The film opens in 1964, where an older and fat...   \n",
       "3        3     5  In the early years of World War II, December 1...   \n",
       "3        3     6  In 1963 Oregon, Randle Patrick McMurphy (Nicho...   \n",
       "3        3     7  The film opens in Tara, a cotton plantation ow...   \n",
       "4        4     8  It's 1941, and newspaper tycoon Charles Foster...   \n",
       "1        1     9  Dorothy Gale (Judy Garland) is an orphaned tee...   \n",
       "4        4    10  In 1996, treasure hunter Brock Lovett and his ...   \n",
       "3        3    11  In 1935, T. E. Lawrence (Peter O'Toole) is kil...   \n",
       "0        0    12  The Godfather Part II presents two parallel st...   \n",
       "1        1    13  In a Phoenix hotel room on a Friday afternoon,...   \n",
       "1        1    14  The film opens with the camera tracking down S...   \n",
       "1        1    15  A woman's face gives way to a kaleidoscope of ...   \n",
       "1        1    16  Terry Malloy (Marlon Brando) once dreamt of be...   \n",
       "3        3    17  The film begins with a feather falling to the ...   \n",
       "4        4    18  The widowed, retired Austrian naval officer, C...   \n",
       "1        1    19  A fight set to music between an American gang,...   \n",
       "3        3    20  Note: Italicized paragraphs denote scenes adde...   \n",
       "\n",
       "                             title  \n",
       "2                    The Godfather  \n",
       "3         The Shawshank Redemption  \n",
       "3                 Schindler's List  \n",
       "0                      Raging Bull  \n",
       "3                       Casablanca  \n",
       "3  One Flew Over the Cuckoo's Nest  \n",
       "3               Gone with the Wind  \n",
       "4                     Citizen Kane  \n",
       "1                 The Wizard of Oz  \n",
       "4                          Titanic  \n",
       "3               Lawrence of Arabia  \n",
       "0           The Godfather: Part II  \n",
       "1                           Psycho  \n",
       "1                     Sunset Blvd.  \n",
       "1                          Vertigo  \n",
       "1                On the Waterfront  \n",
       "3                     Forrest Gump  \n",
       "4               The Sound of Music  \n",
       "1                  West Side Story  \n",
       "3                        Star Wars  "
      ]
     },
     "execution_count": 15,
     "metadata": {},
     "output_type": "execute_result"
    }
   ],
   "source": [
    "import numpy as np\n",
    "\n",
    "films = { 'title': titles, 'rank': range(1, len(titles) + 1), 'synopsis': synopses, 'cluster': clusters}\n",
    "frame = pd.DataFrame(films, index = [clusters])\n",
    "frame[:20]"
   ]
  },
  {
   "cell_type": "markdown",
   "metadata": {},
   "source": [
    "### Contagem por grupos"
   ]
  },
  {
   "cell_type": "code",
   "execution_count": 16,
   "metadata": {
    "collapsed": false
   },
   "outputs": [
    {
     "data": {
      "text/plain": [
       "1    32\n",
       "3    27\n",
       "4    21\n",
       "2    11\n",
       "0     9\n",
       "Name: cluster, dtype: int64"
      ]
     },
     "execution_count": 16,
     "metadata": {},
     "output_type": "execute_result"
    }
   ],
   "source": [
    "frame['cluster'].value_counts()"
   ]
  },
  {
   "cell_type": "code",
   "execution_count": 17,
   "metadata": {
    "collapsed": false
   },
   "outputs": [
    {
     "data": {
      "text/plain": [
       "cluster\n",
       "0    37.111111\n",
       "1    57.718750\n",
       "2    53.727273\n",
       "3    35.148148\n",
       "4    63.285714\n",
       "Name: rank, dtype: float64"
      ]
     },
     "execution_count": 17,
     "metadata": {},
     "output_type": "execute_result"
    }
   ],
   "source": [
    "grouped = frame['rank'].groupby(frame['cluster'])\n",
    "\n",
    "grouped.mean()"
   ]
  },
  {
   "cell_type": "markdown",
   "metadata": {},
   "source": [
    "### Imprimindo a lista de grupos"
   ]
  },
  {
   "cell_type": "code",
   "execution_count": 18,
   "metadata": {
    "collapsed": false
   },
   "outputs": [
    {
     "name": "stdout",
     "output_type": "stream",
     "text": [
      "Top terms per cluster:\n",
      "Cluster 1:\n",
      " Top Words: [u'father', u'brother', u'son', u'fight', u'warn']\n",
      " - Raging Bull,\n",
      " - The Godfather: Part II,\n",
      " - 12 Angry Men,\n",
      " - Amadeus,\n",
      " - The Lord of the Rings: The Return of the King,\n",
      " - Gladiator,\n",
      " - Braveheart,\n",
      " - It Happened One Night,\n",
      " - Rain Man,\n",
      "Cluster 2:\n",
      " Top Words: [u'tell', u'get', u\"n't\", u'car', u'say']\n",
      " - The Wizard of Oz,\n",
      " - Psycho,\n",
      " - Sunset Blvd.,\n",
      " - Vertigo,\n",
      " - On the Waterfront,\n",
      " - West Side Story,\n",
      " - E.T. the Extra-Terrestrial,\n",
      " - 2001: A Space Odyssey,\n",
      " - It's a Wonderful Life,\n",
      " - Some Like It Hot,\n",
      " - Unforgiven,\n",
      " - Rocky,\n",
      " - To Kill a Mockingbird,\n",
      " - My Fair Lady,\n",
      " - Ben-Hur,\n",
      " - The Exorcist,\n",
      " - The French Connection,\n",
      " - Tootsie,\n",
      " - Fargo,\n",
      " - The Green Mile,\n",
      " - Close Encounters of the Third Kind,\n",
      " - Nashville,\n",
      " - The Graduate,\n",
      " - American Graffiti,\n",
      " - Pulp Fiction,\n",
      " - The Maltese Falcon,\n",
      " - A Clockwork Orange,\n",
      " - Taxi Driver,\n",
      " - Rebel Without a Cause,\n",
      " - Rear Window,\n",
      " - The Third Man,\n",
      " - North by Northwest,\n",
      "Cluster 3:\n",
      " Top Words: [u'famili', u'war', u'marri', u'love', u'much']\n",
      " - The Godfather,\n",
      " - A Streetcar Named Desire,\n",
      " - The Philadelphia Story,\n",
      " - An American in Paris,\n",
      " - Doctor Zhivago,\n",
      " - The Pianist,\n",
      " - Goodfellas,\n",
      " - The King's Speech,\n",
      " - Out of Africa,\n",
      " - Giant,\n",
      " - The Grapes of Wrath,\n",
      "Cluster 4:\n",
      " Top Words: [u'command', u'order', u'soldier', u'kill', u'armi']\n",
      " - The Shawshank Redemption,\n",
      " - Schindler's List,\n",
      " - Casablanca,\n",
      " - One Flew Over the Cuckoo's Nest,\n",
      " - Gone with the Wind,\n",
      " - Lawrence of Arabia,\n",
      " - Forrest Gump,\n",
      " - Star Wars,\n",
      " - The Silence of the Lambs,\n",
      " - The Bridge on the River Kwai,\n",
      " - Dr. Strangelove or: How I Learned to Stop Worrying and Love the Bomb,\n",
      " - Apocalypse Now,\n",
      " - Gandhi,\n",
      " - From Here to Eternity,\n",
      " - Saving Private Ryan,\n",
      " - Raiders of the Lost Ark,\n",
      " - The Best Years of Our Lives,\n",
      " - Patton,\n",
      " - Jaws,\n",
      " - The Good, the Bad and the Ugly,\n",
      " - Butch Cassidy and the Sundance Kid,\n",
      " - The Treasure of the Sierra Madre,\n",
      " - Platoon,\n",
      " - Dances with Wolves,\n",
      " - The Deer Hunter,\n",
      " - Mr. Smith Goes to Washington,\n",
      " - Good Will Hunting,\n",
      "Cluster 5:\n",
      " Top Words: [u'love', u'mr.', u'water', u'apart', u'new']\n",
      " - Citizen Kane,\n",
      " - Titanic,\n",
      " - The Sound of Music,\n",
      " - Chinatown,\n",
      " - Singin' in the Rain,\n",
      " - The Apartment,\n",
      " - High Noon,\n",
      " - All Quiet on the Western Front,\n",
      " - City Lights,\n",
      " - A Place in the Sun,\n",
      " - Midnight Cowboy,\n",
      " - Annie Hall,\n",
      " - Terms of Endearment,\n",
      " - Shane,\n",
      " - Network,\n",
      " - The African Queen,\n",
      " - Stagecoach,\n",
      " - Mutiny on the Bounty,\n",
      " - Wuthering Heights,\n",
      " - Double Indemnity,\n",
      " - Yankee Doodle Dandy,\n"
     ]
    }
   ],
   "source": [
    "print \"Top terms per cluster:\"\n",
    "order_centroids = km.cluster_centers_.argsort()[:, ::-1]\n",
    "\n",
    "for i in range(num_clusters):\n",
    "    print \"Cluster %d:\" % (i + 1)\n",
    "\n",
    "    top_terms = [terms[ind] for ind in order_centroids[i, :5]]\n",
    "    print \" Top Words: %s\" % (top_terms)\n",
    "\n",
    "    for title in frame.ix[i]['title'].values.tolist():\n",
    "        print' - %s,' % title"
   ]
  },
  {
   "cell_type": "markdown",
   "metadata": {
    "collapsed": true
   },
   "source": [
    "## Referências:\n",
    "[1](http://stackoverflow.com/questions/27889873/clustering-text-documents-using-scikit-learn-kmeans-in-python) Clustering Text Documents Using Scikit-learn\n",
    "\n",
    "[2](http://scikit-learn.org/stable/auto_examples/text/document_clustering.html) Document Clustering"
   ]
  },
  {
   "cell_type": "code",
   "execution_count": null,
   "metadata": {
    "collapsed": true
   },
   "outputs": [],
   "source": []
  }
 ],
 "metadata": {
  "anaconda-cloud": {},
  "kernelspec": {
   "display_name": "Python [Root]",
   "language": "python",
   "name": "Python [Root]"
  },
  "language_info": {
   "codemirror_mode": {
    "name": "ipython",
    "version": 2
   },
   "file_extension": ".py",
   "mimetype": "text/x-python",
   "name": "python",
   "nbconvert_exporter": "python",
   "pygments_lexer": "ipython2",
   "version": "2.7.12"
  }
 },
 "nbformat": 4,
 "nbformat_minor": 0
}
