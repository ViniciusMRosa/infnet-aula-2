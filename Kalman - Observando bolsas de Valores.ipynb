{
 "cells": [
  {
   "cell_type": "code",
   "execution_count": 1,
   "metadata": {
    "collapsed": true
   },
   "outputs": [],
   "source": [
    "# Necessário para exibir as imagens no notebook.\n",
    "%matplotlib inline"
   ]
  },
  {
   "cell_type": "markdown",
   "metadata": {},
   "source": [
    "https://anaconda.org/phios/pykalman\n",
    "https://pykalman.github.io/"
   ]
  },
  {
   "cell_type": "markdown",
   "metadata": {},
   "source": [
    "## Base de Dados\n",
    "\n",
    "Valores de fechamento de duas ETF (Exchange-Traded Fund):\n",
    " - EWG, Alemanha;\n",
    " - EWC, Canadá.\n",
    "\n",
    "Para coletar a variação dos índices dessas duas bolsas de valores vamos utilizar a função DataReader do pandas. Os dados serão coletados pela DataReader na base do Yahoo Finance, poderia ser o Google Finance ou qualuqer um outro listado na [documentação](http://pandas.pydata.org/pandas-docs/stable/remote_data.html).\n",
    "\n",
    "De cada ação, ou índice, é possível coletar:\n",
    " - Open;\n",
    " - High;\n",
    " - Low;\n",
    " - Close;\n",
    " - Volume;\n",
    " - Adj Close\n",
    "\n",
    "___\n",
    "### Coletando os dados"
   ]
  },
  {
   "cell_type": "code",
   "execution_count": 8,
   "metadata": {
    "collapsed": false
   },
   "outputs": [
    {
     "name": "stdout",
     "output_type": "stream",
     "text": [
      "(1656, 2)\n"
     ]
    },
    {
     "data": {
      "text/html": [
       "<div>\n",
       "<table border=\"1\" class=\"dataframe\">\n",
       "  <thead>\n",
       "    <tr style=\"text-align: right;\">\n",
       "      <th></th>\n",
       "      <th>EWA</th>\n",
       "      <th>EWC</th>\n",
       "    </tr>\n",
       "    <tr>\n",
       "      <th>Date</th>\n",
       "      <th></th>\n",
       "      <th></th>\n",
       "    </tr>\n",
       "  </thead>\n",
       "  <tbody>\n",
       "    <tr>\n",
       "      <th>2010-01-04</th>\n",
       "      <td>17.553802</td>\n",
       "      <td>23.514414</td>\n",
       "    </tr>\n",
       "    <tr>\n",
       "      <th>2010-01-05</th>\n",
       "      <td>17.605606</td>\n",
       "      <td>23.645438</td>\n",
       "    </tr>\n",
       "    <tr>\n",
       "      <th>2010-01-06</th>\n",
       "      <td>17.672209</td>\n",
       "      <td>23.828872</td>\n",
       "    </tr>\n",
       "    <tr>\n",
       "      <th>2010-01-07</th>\n",
       "      <td>17.590805</td>\n",
       "      <td>23.750258</td>\n",
       "    </tr>\n",
       "    <tr>\n",
       "      <th>2010-01-08</th>\n",
       "      <td>17.798016</td>\n",
       "      <td>23.872546</td>\n",
       "    </tr>\n",
       "    <tr>\n",
       "      <th>2010-01-11</th>\n",
       "      <td>17.975627</td>\n",
       "      <td>23.802667</td>\n",
       "    </tr>\n",
       "    <tr>\n",
       "      <th>2010-01-12</th>\n",
       "      <td>17.383593</td>\n",
       "      <td>23.383391</td>\n",
       "    </tr>\n",
       "    <tr>\n",
       "      <th>2010-01-13</th>\n",
       "      <td>17.650008</td>\n",
       "      <td>23.619234</td>\n",
       "    </tr>\n",
       "    <tr>\n",
       "      <th>2010-01-14</th>\n",
       "      <td>17.872021</td>\n",
       "      <td>23.689114</td>\n",
       "    </tr>\n",
       "    <tr>\n",
       "      <th>2010-01-15</th>\n",
       "      <td>17.494599</td>\n",
       "      <td>23.339715</td>\n",
       "    </tr>\n",
       "    <tr>\n",
       "      <th>2010-01-19</th>\n",
       "      <td>17.753614</td>\n",
       "      <td>23.365921</td>\n",
       "    </tr>\n",
       "    <tr>\n",
       "      <th>2010-01-20</th>\n",
       "      <td>17.228185</td>\n",
       "      <td>22.833090</td>\n",
       "    </tr>\n",
       "    <tr>\n",
       "      <th>2010-01-21</th>\n",
       "      <td>16.650951</td>\n",
       "      <td>22.361405</td>\n",
       "    </tr>\n",
       "    <tr>\n",
       "      <th>2010-01-22</th>\n",
       "      <td>16.310532</td>\n",
       "      <td>21.907188</td>\n",
       "    </tr>\n",
       "    <tr>\n",
       "      <th>2010-01-25</th>\n",
       "      <td>16.562145</td>\n",
       "      <td>21.968333</td>\n",
       "    </tr>\n",
       "    <tr>\n",
       "      <th>2010-01-26</th>\n",
       "      <td>16.266129</td>\n",
       "      <td>21.898453</td>\n",
       "    </tr>\n",
       "    <tr>\n",
       "      <th>2010-01-27</th>\n",
       "      <td>16.192124</td>\n",
       "      <td>21.793635</td>\n",
       "    </tr>\n",
       "    <tr>\n",
       "      <th>2010-01-28</th>\n",
       "      <td>16.044117</td>\n",
       "      <td>21.566527</td>\n",
       "    </tr>\n",
       "    <tr>\n",
       "      <th>2010-01-29</th>\n",
       "      <td>15.614892</td>\n",
       "      <td>21.348154</td>\n",
       "    </tr>\n",
       "    <tr>\n",
       "      <th>2010-02-01</th>\n",
       "      <td>15.992314</td>\n",
       "      <td>21.749959</td>\n",
       "    </tr>\n",
       "  </tbody>\n",
       "</table>\n",
       "</div>"
      ],
      "text/plain": [
       "                  EWA        EWC\n",
       "Date                            \n",
       "2010-01-04  17.553802  23.514414\n",
       "2010-01-05  17.605606  23.645438\n",
       "2010-01-06  17.672209  23.828872\n",
       "2010-01-07  17.590805  23.750258\n",
       "2010-01-08  17.798016  23.872546\n",
       "2010-01-11  17.975627  23.802667\n",
       "2010-01-12  17.383593  23.383391\n",
       "2010-01-13  17.650008  23.619234\n",
       "2010-01-14  17.872021  23.689114\n",
       "2010-01-15  17.494599  23.339715\n",
       "2010-01-19  17.753614  23.365921\n",
       "2010-01-20  17.228185  22.833090\n",
       "2010-01-21  16.650951  22.361405\n",
       "2010-01-22  16.310532  21.907188\n",
       "2010-01-25  16.562145  21.968333\n",
       "2010-01-26  16.266129  21.898453\n",
       "2010-01-27  16.192124  21.793635\n",
       "2010-01-28  16.044117  21.566527\n",
       "2010-01-29  15.614892  21.348154\n",
       "2010-02-01  15.992314  21.749959"
      ]
     },
     "execution_count": 8,
     "metadata": {},
     "output_type": "execute_result"
    }
   ],
   "source": [
    "from pandas.io.data import DataReader\n",
    "\n",
    "# Selecionando as bolsas:\n",
    "secs = ['EWA', 'EWC']  # Australia e Canada\n",
    "\n",
    "# Coletando o valor ao fechamento (Adj Close)\n",
    "data = DataReader(secs, 'yahoo', '2010-1-1', '2016-8-1')['Adj Close']\n",
    "\n",
    "# Imprimindo o formato\n",
    "print data.shape\n",
    "\n",
    "# Imprimindo as 20 primeiras linhas\n",
    "data[:20]"
   ]
  },
  {
   "cell_type": "markdown",
   "metadata": {},
   "source": [
    "### Construindo uma matriz de observação\n"
   ]
  },
  {
   "cell_type": "code",
   "execution_count": 3,
   "metadata": {
    "collapsed": false
   },
   "outputs": [
    {
     "data": {
      "text/plain": [
       "array([[[ 17.553802,   1.      ]],\n",
       "\n",
       "       [[ 17.605606,   1.      ]],\n",
       "\n",
       "       [[ 17.672209,   1.      ]],\n",
       "\n",
       "       [[ 17.590805,   1.      ]],\n",
       "\n",
       "       [[ 17.798016,   1.      ]],\n",
       "\n",
       "       [[ 17.975627,   1.      ]],\n",
       "\n",
       "       [[ 17.383593,   1.      ]],\n",
       "\n",
       "       [[ 17.650008,   1.      ]],\n",
       "\n",
       "       [[ 17.872021,   1.      ]],\n",
       "\n",
       "       [[ 17.494599,   1.      ]]])"
      ]
     },
     "execution_count": 3,
     "metadata": {},
     "output_type": "execute_result"
    }
   ],
   "source": [
    "import numpy as np\n",
    "\n",
    "obs_mat = np.vstack([data.EWA, np.ones(data.EWA.shape)]).T[:, np.newaxis]\n",
    "obs_mat[:10]"
   ]
  },
  {
   "cell_type": "markdown",
   "metadata": {},
   "source": [
    "Definindo uma covariância de transição, quanto que a próxima observação será influenciada pela atual."
   ]
  },
  {
   "cell_type": "code",
   "execution_count": 4,
   "metadata": {
    "collapsed": true
   },
   "outputs": [],
   "source": [
    "delta = 1e-5\n",
    "trans_cov = delta / (1 - delta) * np.eye(2)"
   ]
  },
  {
   "cell_type": "markdown",
   "metadata": {},
   "source": [
    "Finalmente, aplicando o filtro:"
   ]
  },
  {
   "cell_type": "code",
   "execution_count": 5,
   "metadata": {
    "collapsed": false
   },
   "outputs": [],
   "source": [
    "from pykalman import KalmanFilter\n",
    "\n",
    "kf = KalmanFilter(n_dim_obs=1, n_dim_state=2,\n",
    "                  initial_state_mean=np.zeros(2),\n",
    "                  initial_state_covariance=np.ones((2, 2)),\n",
    "                  transition_matrices=np.eye(2),\n",
    "                  observation_matrices=obs_mat,\n",
    "                  observation_covariance=1.0,\n",
    "                  transition_covariance=trans_cov)"
   ]
  },
  {
   "cell_type": "code",
   "execution_count": 6,
   "metadata": {
    "collapsed": false
   },
   "outputs": [],
   "source": [
    "# and calculate the filtered state means and covariances\n",
    "state_means, state_covs = kf.filter(data.EWC.values)"
   ]
  },
  {
   "cell_type": "code",
   "execution_count": 7,
   "metadata": {
    "collapsed": false
   },
   "outputs": [
    {
     "data": {
      "image/png": "[encoded data removed]",
      "text/plain": [
       "<matplotlib.figure.Figure at 0x116f32ad0>"
      ]
     },
     "metadata": {},
     "output_type": "display_data"
    }
   ],
   "source": [
    "import matplotlib.pyplot as plt\n",
    "import pandas as pd\n",
    "\n",
    "# Finally, we can plot the slope and intercept to see how they change over time \n",
    "pd.DataFrame(dict(slope=state_means[:, 0], intercept=state_means[:, 1]), index=data.index).plot(subplots=True)\n",
    "plt.tight_layout();\n",
    "plt.savefig('slope_intercept.png')"
   ]
  },
  {
   "cell_type": "code",
   "execution_count": null,
   "metadata": {
    "collapsed": true
   },
   "outputs": [],
   "source": []
  }
 ],
 "metadata": {
  "kernelspec": {
   "display_name": "Python [Root]",
   "language": "python",
   "name": "Python [Root]"
  },
  "language_info": {
   "codemirror_mode": {
    "name": "ipython",
    "version": 2
   },
   "file_extension": ".py",
   "mimetype": "text/x-python",
   "name": "python",
   "nbconvert_exporter": "python",
   "pygments_lexer": "ipython2",
   "version": "2.7.12"
  }
 },
 "nbformat": 4,
 "nbformat_minor": 0
}
